{
 "cells": [
  {
   "cell_type": "markdown",
   "id": "6c20b914-bb45-45b4-bcbc-98e81db8865b",
   "metadata": {},
   "source": [
    "## Exercises Part 1: FTP Optimisation"
   ]
  },
  {
   "attachments": {},
   "cell_type": "markdown",
   "id": "54ed70d6-0051-4071-ad57-a677b5711cd6",
   "metadata": {},
   "source": []
  },
  {
   "cell_type": "code",
   "execution_count": null,
   "id": "ade27249-6ea5-414f-ae9d-eaa37d1f52c2",
   "metadata": {},
   "outputs": [],
   "source": []
  }
 ],
 "metadata": {
  "kernelspec": {
   "display_name": "Python 3 (ipykernel)",
   "language": "python",
   "name": "python3"
  },
  "language_info": {
   "codemirror_mode": {
    "name": "ipython",
    "version": 3
   },
   "file_extension": ".py",
   "mimetype": "text/x-python",
   "name": "python",
   "nbconvert_exporter": "python",
   "pygments_lexer": "ipython3",
   "version": "3.8.18"
  }
 },
 "nbformat": 4,
 "nbformat_minor": 5
}
