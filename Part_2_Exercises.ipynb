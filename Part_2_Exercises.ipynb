{
 "cells": [
  {
   "cell_type": "markdown",
   "id": "51e883d7-6a19-47a0-b32a-515c528a64f2",
   "metadata": {},
   "source": [
    "## Part 2: FTP Optimisation Helper Scripts\n",
    "\n",
    "This script calculates the first order and second order derivatives of a defined function $f$. Additionally it will show the Gradient and Hessian Matrix of the function. Please also add a point which will be set into the gradient and the Hessian."
   ]
  },
  {
   "cell_type": "code",
   "execution_count": null,
   "id": "6291448c-d1f7-45ec-bc07-bb91737d173b",
   "metadata": {},
   "outputs": [],
   "source": [
    "from sympy import symbols, diff\n",
    "\n",
    "# Define the symbols:\n",
    "x, y = symbols('x y')\n",
    "\n",
    "# Define the function and point here:\n",
    "f = (x**2 - 2*x*y + x)**2\n",
    "x_val, y_val = 2, 2\n"
   ]
  }
 ],
 "metadata": {
  "kernelspec": {
   "display_name": "Python 3 (ipykernel)",
   "language": "python",
   "name": "python3"
  },
  "language_info": {
   "codemirror_mode": {
    "name": "ipython",
    "version": 3
   },
   "file_extension": ".py",
   "mimetype": "text/x-python",
   "name": "python",
   "nbconvert_exporter": "python",
   "pygments_lexer": "ipython3",
   "version": "3.8.18"
  }
 },
 "nbformat": 4,
 "nbformat_minor": 5
}
