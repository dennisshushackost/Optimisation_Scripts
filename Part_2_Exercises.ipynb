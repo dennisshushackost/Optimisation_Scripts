{
 "cells": [
  {
   "cell_type": "markdown",
   "id": "51e883d7-6a19-47a0-b32a-515c528a64f2",
   "metadata": {},
   "source": [
    "## Part 2: FTP Optimisation Helper Scripts\n",
    "\n",
    "This script calculates the first order and second order derivatives of a defined function $f$. Additionally it will show the Gradient and Hessian Matrix of the function. Please also add a point which will be set into the gradient and the Hessian."
   ]
  },
  {
   "cell_type": "code",
   "execution_count": 16,
   "id": "6291448c-d1f7-45ec-bc07-bb91737d173b",
   "metadata": {
    "scrolled": true
   },
   "outputs": [
    {
     "name": "stdout",
     "output_type": "stream",
     "text": [
      "First order derivatives:\n"
     ]
    },
    {
     "data": {
      "text/latex": [
       "$\\frac{\\partial f}{\\partial x} = 2*x - 4*y + 4*(x - 2)**3$"
      ],
      "text/plain": [
       "<IPython.core.display.Latex object>"
      ]
     },
     "metadata": {},
     "output_type": "display_data"
    },
    {
     "data": {
      "text/latex": [
       "$\\frac{\\partial f}{\\partial y} = -4*x + 8*y$"
      ],
      "text/plain": [
       "<IPython.core.display.Latex object>"
      ]
     },
     "metadata": {},
     "output_type": "display_data"
    },
    {
     "name": "stdout",
     "output_type": "stream",
     "text": [
      "\n",
      "Second order derivatives:\n"
     ]
    },
    {
     "data": {
      "text/latex": [
       "$\\frac{\\partial^2 f}{\\partial x^2} = 12*(x - 2)**2 + 2$"
      ],
      "text/plain": [
       "<IPython.core.display.Latex object>"
      ]
     },
     "metadata": {},
     "output_type": "display_data"
    },
    {
     "data": {
      "text/latex": [
       "$\\frac{\\partial^2 f}{\\partial y^2} = 8$"
      ],
      "text/plain": [
       "<IPython.core.display.Latex object>"
      ]
     },
     "metadata": {},
     "output_type": "display_data"
    },
    {
     "data": {
      "text/latex": [
       "$\\frac{\\partial^2 f}{\\partial y \\partial x} = -4$"
      ],
      "text/plain": [
       "<IPython.core.display.Latex object>"
      ]
     },
     "metadata": {},
     "output_type": "display_data"
    },
    {
     "data": {
      "text/latex": [
       "$\\frac{\\partial^2 f}{\\partial x \\partial y} = -4$"
      ],
      "text/plain": [
       "<IPython.core.display.Latex object>"
      ]
     },
     "metadata": {},
     "output_type": "display_data"
    },
    {
     "name": "stdout",
     "output_type": "stream",
     "text": [
      "\n",
      "Gradient:\n"
     ]
    },
    {
     "data": {
      "text/latex": [
       "$\\nabla f = Matrix([[2*x - 4*y + 4*(x - 2)**3], [-4*x + 8*y]])$"
      ],
      "text/plain": [
       "<IPython.core.display.Latex object>"
      ]
     },
     "metadata": {},
     "output_type": "display_data"
    },
    {
     "name": "stdout",
     "output_type": "stream",
     "text": [
      "\n",
      "Hessian:\n"
     ]
    },
    {
     "data": {
      "text/latex": [
       "$H = Matrix([[12*(x - 2)**2 + 2, -4], [-4, 8]])$"
      ],
      "text/plain": [
       "<IPython.core.display.Latex object>"
      ]
     },
     "metadata": {},
     "output_type": "display_data"
    },
    {
     "name": "stdout",
     "output_type": "stream",
     "text": [
      "\n",
      "function at starting point: (0, 0)\n",
      "function at starting point = 16\n",
      "\n",
      "Gradient at starting point (0, 0):\n",
      "Gradient at starting point = [-32, 0]\n",
      "\n",
      "Hessian at starting point (0, 0):\n",
      "Hessian at starting point = [[50, -4], [-4, 8]]\n"
     ]
    }
   ],
   "source": [
    "from sympy import symbols, diff, Matrix\n",
    "from IPython.display import display, Latex\n",
    "\n",
    "def calculate_gradient_Hessian():\n",
    "    # Define the symbols:\n",
    "    x, y = symbols('x y')\n",
    "    \n",
    "    # Define your function and point here:\n",
    "    f = (x-2)**4 + (x-2*y)**2\n",
    "    x_val, y_val = 0, 0\n",
    "\n",
    "    # Compute first order partials:\n",
    "    f_x = diff(f, x)\n",
    "    f_y = diff(f, y)\n",
    "\n",
    "    # Compute second order partials:\n",
    "    f_xx = diff(f_x, x)   # ∂²f/∂x²\n",
    "    f_yy = diff(f_y, y)   # ∂²f/∂y²\n",
    "    f_xy = diff(f_x, y)   # ∂²f/∂y∂x\n",
    "    f_yx = diff(f_y, x)   # ∂²f/∂x∂y\n",
    "\n",
    "    # Compute the gradient and Hessian:\n",
    "    grad = [f_x, f_y]\n",
    "    H = [[f_xx, f_yx], [f_xy, f_yy]]\n",
    "\n",
    "    # Evaluate at the given point:\n",
    "    derivatives_at_point = {\n",
    "    \"∂f/∂x\": f_x.subs({x: x_val, y: y_val}),\n",
    "    \"∂f/∂y\": f_y.subs({x: x_val, y: y_val}),\n",
    "    \"∂²f/∂x²\": f_xx.subs({x: x_val, y: y_val}),\n",
    "    \"∂²f/∂y²\": f_yy.subs({x: x_val, y: y_val}),\n",
    "    \"∂²f/∂y∂x\": f_xy.subs({x: x_val, y: y_val}),\n",
    "    \"∂²f/∂x∂y\": f_yx.subs({x: x_val, y: y_val})\n",
    "    }\n",
    "\n",
    "    # Compute Gradient and Hessian at point:\n",
    "    gradient_at_point = [derivatives_at_point[\"∂f/∂x\"], derivatives_at_point[\"∂f/∂y\"]]\n",
    "    hessian_at_point = [[derivatives_at_point[\"∂²f/∂x²\"], derivatives_at_point[\"∂²f/∂x∂y\"]], \n",
    "                    [derivatives_at_point[\"∂²f/∂y∂x\"], derivatives_at_point[\"∂²f/∂y²\"]]]\n",
    "\n",
    "    # Print out the results:\n",
    "    print(\"First order derivatives:\")\n",
    "    display(Latex(r'$\\frac{\\partial f}{\\partial x} = %s$' % f_x)) \n",
    "    display(Latex(r'$\\frac{\\partial f}{\\partial y} = %s$' % f_y))\n",
    "    print(\"\\nSecond order derivatives:\")\n",
    "    display(Latex(r'$\\frac{\\partial^2 f}{\\partial x^2} = %s$' % f_xx))\n",
    "    display(Latex(r'$\\frac{\\partial^2 f}{\\partial y^2} = %s$' % f_yy))\n",
    "    display(Latex(r'$\\frac{\\partial^2 f}{\\partial y \\partial x} = %s$' % f_xy))\n",
    "    display(Latex(r'$\\frac{\\partial^2 f}{\\partial x \\partial y} = %s$' % f_yx))\n",
    "    print(\"\\nGradient:\")\n",
    "    display(Latex(r'$\\nabla f = %s$' % Matrix(grad)))\n",
    "    print(\"\\nHessian:\")\n",
    "    display(Latex(r'$H = %s$' % Matrix(H)))\n",
    "    \n",
    "    print(f\"\\nfunction at starting point: {(x_val, y_val)}\")\n",
    "    print('function at starting point =', f.subs({x: x_val, y: y_val}))\n",
    "\n",
    "    print(f\"\\nGradient at starting point {(x_val, y_val)}:\")\n",
    "    print('Gradient at starting point =', gradient_at_point)\n",
    "\n",
    "    print(f\"\\nHessian at starting point {(x_val, y_val)}:\")\n",
    "    print('Hessian at starting point =', hessian_at_point)\n",
    "\n",
    "    \n",
    "\n",
    "calculate_gradient_Hessian()\n"
   ]
  },
  {
   "cell_type": "code",
   "execution_count": null,
   "id": "bcca65d6-0a3e-45fa-b91f-fa0e6a91763e",
   "metadata": {},
   "outputs": [],
   "source": []
  }
 ],
 "metadata": {
  "kernelspec": {
   "display_name": "Python 3 (ipykernel)",
   "language": "python",
   "name": "python3"
  },
  "language_info": {
   "codemirror_mode": {
    "name": "ipython",
    "version": 3
   },
   "file_extension": ".py",
   "mimetype": "text/x-python",
   "name": "python",
   "nbconvert_exporter": "python",
   "pygments_lexer": "ipython3",
   "version": "3.8.18"
  }
 },
 "nbformat": 4,
 "nbformat_minor": 5
}
