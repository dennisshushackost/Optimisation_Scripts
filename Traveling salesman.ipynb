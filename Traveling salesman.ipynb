{
 "cells": [
  {
   "cell_type": "code",
   "execution_count": 2,
   "id": "97392ef3-893c-4294-969e-80302e3168b9",
   "metadata": {},
   "outputs": [
    {
     "name": "stdout",
     "output_type": "stream",
     "text": [
      "\n",
      "{'12': 0, '13': 1, '14': 0, '15': 1, '23': 1, '24': 1, '25': 0, '34': 0, '35': 0, '45': 1}\n",
      "\n",
      "{'12': 0, '13': 0, '14': 1, '15': 1, '23': 1, '24': 0, '25': 1, '34': 1, '35': 0, '45': 0}\n",
      "\n",
      "{'12': 1, '13': 0, '14': 0, '15': 0, '23': 0, '24': 0, '25': 0, '34': 1, '35': 1, '45': 1}\n",
      "\n",
      "{'12': 1, '13': 1, '14': 0, '15': 0, '23': 1, '24': 0, '25': 0, '34': 0, '35': 0, '45': 1}\n",
      "\n",
      "{'12': 1, '13': 0, '14': 0, '15': 1, '23': 0, '24': 1, '25': 0, '34': 1, '35': 1, '45': 0}\n"
     ]
    }
   ],
   "source": [
    "from itertools import combinations\n",
    "\n",
    "def generate_incidence_vector(edges):\n",
    "    \"\"\"\n",
    "    Generate an incidence vector from a list of edges.\n",
    "    \"\"\"\n",
    "    vector = {}\n",
    "    for i in range(1, 6):\n",
    "        for j in range(i+1, 6):\n",
    "            vector[f'{i}{j}'] = 1 if (i, j) in edges or (j, i) in edges else 0\n",
    "    return vector\n",
    "\n",
    "def two_opt_neighborhood(incidence_vector):\n",
    "    \"\"\"\n",
    "    Generate all 2-opt neighbors for a given incidence vector.\n",
    "    \"\"\"\n",
    "    # Convert incidence vector to a list of edges\n",
    "    edges = [(int(edge[0]), int(edge[1])) for edge, value in incidence_vector.items() if value == 1]\n",
    "    \n",
    "    # Generate all combinations of non-adjacent edges\n",
    "    non_adjacent_edges = [comb for comb in combinations(edges, 2) if not are_adjacent(comb[0], comb[1])]\n",
    "    \n",
    "    # Generate new tours\n",
    "    new_vectors = []\n",
    "    for edge1, edge2 in non_adjacent_edges:\n",
    "        new_edges = edges.copy()\n",
    "        new_edges.remove(edge1)\n",
    "        new_edges.remove(edge2)\n",
    "        new_edges.extend([(edge1[0], edge2[0]), (edge1[1], edge2[1])])\n",
    "        new_vectors.append(generate_incidence_vector(new_edges))\n",
    "\n",
    "    return new_vectors\n",
    "\n",
    "def are_adjacent(edge1, edge2):\n",
    "    \"\"\"\n",
    "    Check if two edges are adjacent.\n",
    "    \"\"\"\n",
    "    return len(set(edge1) & set(edge2)) > 0\n",
    "\n",
    "# Starting incidence vector\n",
    "start_vector = {'12': 1, '13': 0, '14': 0, '15': 1, '23': 1, '24': 0, '25': 0, '34': 1, '35': 0, '45': 1}\n",
    "\n",
    "# Find all 2-opt neighbors\n",
    "neighbors = two_opt_neighborhood(start_vector)\n",
    "\n",
    "# Display the first few neighbors as examples\n",
    "for n in neighbors:\n",
    "    print(f\"\\n{n}\")\n"
   ]
  },
  {
   "cell_type": "code",
   "execution_count": null,
   "id": "007769e5-fa4c-486c-aaed-8687891dbe3e",
   "metadata": {},
   "outputs": [],
   "source": []
  }
 ],
 "metadata": {
  "kernelspec": {
   "display_name": "Python 3 (ipykernel)",
   "language": "python",
   "name": "python3"
  },
  "language_info": {
   "codemirror_mode": {
    "name": "ipython",
    "version": 3
   },
   "file_extension": ".py",
   "mimetype": "text/x-python",
   "name": "python",
   "nbconvert_exporter": "python",
   "pygments_lexer": "ipython3",
   "version": "3.8.18"
  }
 },
 "nbformat": 4,
 "nbformat_minor": 5
}
