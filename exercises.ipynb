{
 "cells": [
  {
   "cell_type": "markdown",
   "metadata": {},
   "source": [
    "## Exercises TSM Optimisation "
   ]
  },
  {
   "cell_type": "markdown",
   "metadata": {},
   "source": [
    "Calculate the derivatives, the gradient and the Hessian of the following functions. Please indicate if it is a 2D or 3D function with x,y,z"
   ]
  },
  {
   "cell_type": "code",
   "execution_count": 5,
   "metadata": {},
   "outputs": [
    {
     "name": "stdout",
     "output_type": "stream",
     "text": [
      "First order derivatives:\n"
     ]
    },
    {
     "data": {
      "text/latex": [
       "$\\frac{\\partial f}{\\partial x} = 2*x$"
      ],
      "text/plain": [
       "<IPython.core.display.Latex object>"
      ]
     },
     "metadata": {},
     "output_type": "display_data"
    },
    {
     "data": {
      "text/latex": [
       "$\\frac{\\partial f}{\\partial y} = 2*y$"
      ],
      "text/plain": [
       "<IPython.core.display.Latex object>"
      ]
     },
     "metadata": {},
     "output_type": "display_data"
    },
    {
     "data": {
      "text/latex": [
       "$\\frac{\\partial f}{\\partial z} = 2*z$"
      ],
      "text/plain": [
       "<IPython.core.display.Latex object>"
      ]
     },
     "metadata": {},
     "output_type": "display_data"
    },
    {
     "name": "stdout",
     "output_type": "stream",
     "text": [
      "\n",
      "Second order derivatives:\n"
     ]
    },
    {
     "data": {
      "text/latex": [
       "$\\frac{\\partial^2 f}{\\partial x^2} = 2$"
      ],
      "text/plain": [
       "<IPython.core.display.Latex object>"
      ]
     },
     "metadata": {},
     "output_type": "display_data"
    },
    {
     "data": {
      "text/latex": [
       "$\\frac{\\partial^2 f}{\\partial y^2} = 2$"
      ],
      "text/plain": [
       "<IPython.core.display.Latex object>"
      ]
     },
     "metadata": {},
     "output_type": "display_data"
    },
    {
     "data": {
      "text/latex": [
       "$\\frac{\\partial^2 f}{\\partial z^2} = 2$"
      ],
      "text/plain": [
       "<IPython.core.display.Latex object>"
      ]
     },
     "metadata": {},
     "output_type": "display_data"
    },
    {
     "data": {
      "text/latex": [
       "$\\frac{\\partial^2 f}{\\partial y \\partial x} = 0$"
      ],
      "text/plain": [
       "<IPython.core.display.Latex object>"
      ]
     },
     "metadata": {},
     "output_type": "display_data"
    },
    {
     "data": {
      "text/latex": [
       "$\\frac{\\partial^2 f}{\\partial x \\partial y} = 0$"
      ],
      "text/plain": [
       "<IPython.core.display.Latex object>"
      ]
     },
     "metadata": {},
     "output_type": "display_data"
    },
    {
     "data": {
      "text/latex": [
       "$\\frac{\\partial^2 f}{\\partial y \\partial z} = 0$"
      ],
      "text/plain": [
       "<IPython.core.display.Latex object>"
      ]
     },
     "metadata": {},
     "output_type": "display_data"
    },
    {
     "data": {
      "text/latex": [
       "$\\frac{\\partial^2 f}{\\partial z \\partial y} = 0$"
      ],
      "text/plain": [
       "<IPython.core.display.Latex object>"
      ]
     },
     "metadata": {},
     "output_type": "display_data"
    },
    {
     "data": {
      "text/latex": [
       "$\\frac{\\partial^2 f}{\\partial x \\partial z} = 0$"
      ],
      "text/plain": [
       "<IPython.core.display.Latex object>"
      ]
     },
     "metadata": {},
     "output_type": "display_data"
    },
    {
     "data": {
      "text/latex": [
       "$\\frac{\\partial^2 f}{\\partial z \\partial x} = 0$"
      ],
      "text/plain": [
       "<IPython.core.display.Latex object>"
      ]
     },
     "metadata": {},
     "output_type": "display_data"
    },
    {
     "name": "stdout",
     "output_type": "stream",
     "text": [
      "\n",
      "Gradient:\n"
     ]
    },
    {
     "data": {
      "text/latex": [
       "$\\nabla f = Matrix([[2*x], [2*y], [2*z]])$"
      ],
      "text/plain": [
       "<IPython.core.display.Latex object>"
      ]
     },
     "metadata": {},
     "output_type": "display_data"
    },
    {
     "name": "stdout",
     "output_type": "stream",
     "text": [
      "\n",
      "Hessian:\n"
     ]
    },
    {
     "data": {
      "text/latex": [
       "$H = Matrix([[2, 0, 0], [0, 2, 0], [0, 0, 2]])$"
      ],
      "text/plain": [
       "<IPython.core.display.Latex object>"
      ]
     },
     "metadata": {},
     "output_type": "display_data"
    },
    {
     "name": "stdout",
     "output_type": "stream",
     "text": [
      "\n",
      "function at starting point: (0, 0, 0)\n",
      "function at starting point = 0\n",
      "\n",
      "Gradient at starting point (0, 0, 0):\n",
      "Gradient at starting point = [0, 0, 0]\n",
      "\n",
      "Hessian at starting point (0, 0, 0):\n",
      "Hessian at starting point = [[2, 0, 0], [0, 2, 0], [0, 0, 2]]\n"
     ]
    }
   ],
   "source": [
    "from sympy import symbols, diff, Matrix\n",
    "from IPython.display import display, Latex\n",
    "\n",
    "def calculate_gradient_Hessian():\n",
    "    # Define the symbols:\n",
    "    x, y, z = symbols('x y z')\n",
    "    \n",
    "    # Define your function and point here:\n",
    "    third_order = True\n",
    "    f = x**2 + y**2 + z**2\n",
    "    x_val, y_val, z_val = 0, 0, 0\n",
    "\n",
    "    # Compute first order partials:\n",
    "    f_x = diff(f, x)\n",
    "    f_y = diff(f, y)\n",
    "\n",
    "    if third_order:\n",
    "        f_z = diff(f, z)\n",
    "\n",
    "    # Compute second order partials:\n",
    "    f_xx = diff(f_x, x)   # ∂²f/∂x²\n",
    "    f_yy = diff(f_y, y)   # ∂²f/∂y²\n",
    "    f_xy = diff(f_x, y)   # ∂²f/∂y∂x\n",
    "    f_yx = diff(f_y, x)   # ∂²f/∂x∂y\n",
    "\n",
    "    if third_order:\n",
    "        f_xz = diff(f_x, z)  # ∂²f/∂z∂x\n",
    "        f_yz = diff(f_y, z) # ∂²f/∂z∂y\n",
    "        f_zx = diff(f_z, x)  # ∂²f/∂x∂z\n",
    "        f_zy = diff(f_z, y)  # ∂²f/∂y∂z\n",
    "        f_zz = diff(f_z, z) # ∂²f/∂z²\n",
    "\n",
    "    \n",
    "    # Compute the gradient and Hessian:\n",
    "    grad = [f_x, f_y]\n",
    "    H = [[f_xx, f_yx], [f_xy, f_yy]]\n",
    "\n",
    "    if third_order:\n",
    "        grad = [f_x, f_y, f_z]\n",
    "        H = [[f_xx, f_yx, f_zx], [f_xy, f_yy, f_zy], [f_xz, f_yz, f_zz]]\n",
    "\n",
    "    # Evaluate at the given point:\n",
    "    derivatives_at_point = {\n",
    "    \"∂f/∂x\": f_x.subs({x: x_val, y: y_val}),\n",
    "    \"∂f/∂y\": f_y.subs({x: x_val, y: y_val}),\n",
    "    \"∂²f/∂x²\": f_xx.subs({x: x_val, y: y_val}),\n",
    "    \"∂²f/∂y²\": f_yy.subs({x: x_val, y: y_val}),\n",
    "    \"∂²f/∂y∂x\": f_xy.subs({x: x_val, y: y_val}),\n",
    "    \"∂²f/∂x∂y\": f_yx.subs({x: x_val, y: y_val})\n",
    "    }\n",
    "\n",
    "    if third_order:\n",
    "        derivatives_at_point[\"∂f/∂z\"] = f_z.subs({x: x_val, y: y_val, z: z_val})\n",
    "        derivatives_at_point[\"∂²f/∂z²\"] = f_zz.subs({x: x_val, y: y_val, z: z_val})\n",
    "        derivatives_at_point[\"∂²f/∂z∂x\"] = f_zx.subs({x: x_val, y: y_val, z: z_val})\n",
    "        derivatives_at_point[\"∂²f/∂z∂y\"] = f_zy.subs({x: x_val, y: y_val, z: z_val})\n",
    "        derivatives_at_point[\"∂²f/∂x∂z\"] = f_xz.subs({x: x_val, y: y_val, z: z_val})\n",
    "        derivatives_at_point[\"∂²f/∂y∂z\"] = f_yz.subs({x: x_val, y: y_val, z: z_val})\n",
    "\n",
    "\n",
    "    # Compute Gradient and Hessian at point:\n",
    "    gradient_at_point = [derivatives_at_point[\"∂f/∂x\"], derivatives_at_point[\"∂f/∂y\"]]\n",
    "    hessian_at_point = [[derivatives_at_point[\"∂²f/∂x²\"], derivatives_at_point[\"∂²f/∂x∂y\"]], \n",
    "                    [derivatives_at_point[\"∂²f/∂y∂x\"], derivatives_at_point[\"∂²f/∂y²\"]]]\n",
    "    \n",
    "    if third_order:\n",
    "        gradient_at_point = [derivatives_at_point[\"∂f/∂x\"], derivatives_at_point[\"∂f/∂y\"], derivatives_at_point[\"∂f/∂z\"]]\n",
    "        hessian_at_point = [[derivatives_at_point[\"∂²f/∂x²\"], derivatives_at_point[\"∂²f/∂x∂y\"], derivatives_at_point[\"∂²f/∂x∂z\"]], \n",
    "                    [derivatives_at_point[\"∂²f/∂y∂x\"], derivatives_at_point[\"∂²f/∂y²\"], derivatives_at_point[\"∂²f/∂y∂z\"]],\n",
    "                    [derivatives_at_point[\"∂²f/∂z∂x\"], derivatives_at_point[\"∂²f/∂z∂y\"], derivatives_at_point[\"∂²f/∂z²\"]]]\n",
    "        \n",
    "\n",
    "    # Print out the results:\n",
    "    if third_order:\n",
    "        print(\"First order derivatives:\")\n",
    "        display(Latex(r'$\\frac{\\partial f}{\\partial x} = %s$' % f_x))\n",
    "        display(Latex(r'$\\frac{\\partial f}{\\partial y} = %s$' % f_y))\n",
    "        display(Latex(r'$\\frac{\\partial f}{\\partial z} = %s$' % f_z))\n",
    "        print(\"\\nSecond order derivatives:\")\n",
    "        display(Latex(r'$\\frac{\\partial^2 f}{\\partial x^2} = %s$' % f_xx))\n",
    "        display(Latex(r'$\\frac{\\partial^2 f}{\\partial y^2} = %s$' % f_yy))\n",
    "        display(Latex(r'$\\frac{\\partial^2 f}{\\partial z^2} = %s$' % f_zz))\n",
    "        display(Latex(r'$\\frac{\\partial^2 f}{\\partial y \\partial x} = %s$' % f_xy))\n",
    "        display(Latex(r'$\\frac{\\partial^2 f}{\\partial x \\partial y} = %s$' % f_yx))\n",
    "        display(Latex(r'$\\frac{\\partial^2 f}{\\partial y \\partial z} = %s$' % f_yz))\n",
    "        display(Latex(r'$\\frac{\\partial^2 f}{\\partial z \\partial y} = %s$' % f_zy))\n",
    "        display(Latex(r'$\\frac{\\partial^2 f}{\\partial x \\partial z} = %s$' % f_xz))\n",
    "        display(Latex(r'$\\frac{\\partial^2 f}{\\partial z \\partial x} = %s$' % f_zx))\n",
    "        print(\"\\nGradient:\")\n",
    "        display(Latex(r'$\\nabla f = %s$' % Matrix(grad)))\n",
    "        print(\"\\nHessian:\")\n",
    "        display(Latex(r'$H = %s$' % Matrix(H)))\n",
    "\n",
    "        print(f\"\\nfunction at starting point: {(x_val, y_val, z_val)}\")\n",
    "        print('function at starting point =', f.subs({x: x_val, y: y_val, z: z_val}))\n",
    "\n",
    "        print(f\"\\nGradient at starting point {(x_val, y_val, z_val)}:\")\n",
    "        print('Gradient at starting point =', gradient_at_point)\n",
    "\n",
    "        print(f\"\\nHessian at starting point {(x_val, y_val, z_val)}:\")\n",
    "        print('Hessian at starting point =', hessian_at_point)\n",
    "    else:\n",
    "        print(\"First order derivatives:\")\n",
    "        display(Latex(r'$\\frac{\\partial f}{\\partial x} = %s$' % f_x)) \n",
    "        display(Latex(r'$\\frac{\\partial f}{\\partial y} = %s$' % f_y))\n",
    "        print(\"\\nSecond order derivatives:\")\n",
    "        display(Latex(r'$\\frac{\\partial^2 f}{\\partial x^2} = %s$' % f_xx))\n",
    "        display(Latex(r'$\\frac{\\partial^2 f}{\\partial y^2} = %s$' % f_yy))\n",
    "        display(Latex(r'$\\frac{\\partial^2 f}{\\partial y \\partial x} = %s$' % f_xy))\n",
    "        display(Latex(r'$\\frac{\\partial^2 f}{\\partial x \\partial y} = %s$' % f_yx))\n",
    "        print(\"\\nGradient:\")\n",
    "        display(Latex(r'$\\nabla f = %s$' % Matrix(grad)))\n",
    "        print(\"\\nHessian:\")\n",
    "        display(Latex(r'$H = %s$' % Matrix(H)))\n",
    "        \n",
    "        print(f\"\\nfunction at starting point: {(x_val, y_val)}\")\n",
    "        print('function at starting point =', f.subs({x: x_val, y: y_val}))\n",
    "\n",
    "        print(f\"\\nGradient at starting point {(x_val, y_val)}:\")\n",
    "        print('Gradient at starting point =', gradient_at_point)\n",
    "\n",
    "        print(f\"\\nHessian at starting point {(x_val, y_val)}:\")\n",
    "        print('Hessian at starting point =', hessian_at_point)\n",
    "\n",
    "    \n",
    "\n",
    "calculate_gradient_Hessian()\n"
   ]
  },
  {
   "cell_type": "code",
   "execution_count": null,
   "metadata": {},
   "outputs": [],
   "source": []
  }
 ],
 "metadata": {
  "kernelspec": {
   "display_name": "Python 3 (ipykernel)",
   "language": "python",
   "name": "python3"
  },
  "language_info": {
   "codemirror_mode": {
    "name": "ipython",
    "version": 3
   },
   "file_extension": ".py",
   "mimetype": "text/x-python",
   "name": "python",
   "nbconvert_exporter": "python",
   "pygments_lexer": "ipython3",
   "version": "3.8.18"
  }
 },
 "nbformat": 4,
 "nbformat_minor": 4
}
