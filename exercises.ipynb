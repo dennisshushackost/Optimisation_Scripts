{
 "cells": [
  {
   "cell_type": "markdown",
   "metadata": {},
   "source": [
    "## Exercises TSM Optimisation "
   ]
  },
  {
   "cell_type": "markdown",
   "metadata": {},
   "source": [
    "Calculate the derivatives, the gradient and the Hessian of the following functions:"
   ]
  },
  {
   "cell_type": "code",
   "execution_count": 23,
   "metadata": {},
   "outputs": [
    {
     "name": "stdout",
     "output_type": "stream",
     "text": [
      "First order derivatives:\n",
      "f_x = (4*x - 4*y + 2)*(x**2 - 2*x*y + x)\n",
      "f_y = -4*x*(x**2 - 2*x*y + x)\n",
      "\n",
      "Second order derivatives:\n",
      "f_xx = 4*x**2 - 8*x*y + 4*x + (2*x - 2*y + 1)*(4*x - 4*y + 2)\n",
      "f_yy = 8*x**2\n",
      "f_xy = -4*x**2 + 8*x*y - 2*x*(4*x - 4*y + 2) - 4*x\n",
      "f_yx = -4*x**2 + 8*x*y - 4*x*(2*x - 2*y + 1) - 4*x\n",
      "\n",
      "Gradient:\n",
      "Gradient = [(4*x - 4*y + 2)*(x**2 - 2*x*y + x), -4*x*(x**2 - 2*x*y + x)]\n",
      "\n",
      "Hessian:\n",
      "Hessian = [[4*x**2 - 8*x*y + 4*x + (2*x - 2*y + 1)*(4*x - 4*y + 2), -4*x**2 + 8*x*y - 2*x*(4*x - 4*y + 2) - 4*x], [-4*x**2 + 8*x*y - 4*x*(2*x - 2*y + 1) - 4*x, 8*x**2]]\n",
      "\\Inverse Hessian:\n"
     ]
    },
    {
     "ename": "AttributeError",
     "evalue": "'list' object has no attribute 'inv'",
     "output_type": "error",
     "traceback": [
      "\u001b[1;31m---------------------------------------------------------------------------\u001b[0m",
      "\u001b[1;31mAttributeError\u001b[0m                            Traceback (most recent call last)",
      "Cell \u001b[1;32mIn[23], line 61\u001b[0m\n\u001b[0;32m     58\u001b[0m \u001b[38;5;28mprint\u001b[39m(\u001b[38;5;124m'\u001b[39m\u001b[38;5;124mHessian =\u001b[39m\u001b[38;5;124m'\u001b[39m, H)\n\u001b[0;32m     60\u001b[0m \u001b[38;5;28mprint\u001b[39m(\u001b[38;5;124m\"\u001b[39m\u001b[38;5;124m\\\u001b[39m\u001b[38;5;124mInverse Hessian:\u001b[39m\u001b[38;5;124m\"\u001b[39m)\n\u001b[1;32m---> 61\u001b[0m \u001b[38;5;28mprint\u001b[39m(\u001b[38;5;124m'\u001b[39m\u001b[38;5;124mInverse Hessian =\u001b[39m\u001b[38;5;124m'\u001b[39m, \u001b[43mH\u001b[49m\u001b[38;5;241;43m.\u001b[39;49m\u001b[43minv\u001b[49m())\n\u001b[0;32m     63\u001b[0m \u001b[38;5;28mprint\u001b[39m(\u001b[38;5;124m\"\u001b[39m\u001b[38;5;130;01m\\n\u001b[39;00m\u001b[38;5;124mGradient at starting point:\u001b[39m\u001b[38;5;124m\"\u001b[39m)\n\u001b[0;32m     64\u001b[0m \u001b[38;5;28mprint\u001b[39m(\u001b[38;5;124m'\u001b[39m\u001b[38;5;124mGradient at starting point =\u001b[39m\u001b[38;5;124m'\u001b[39m, gradient_at_point)\n",
      "\u001b[1;31mAttributeError\u001b[0m: 'list' object has no attribute 'inv'"
     ]
    }
   ],
   "source": [
    "from sympy import symbols, diff\n",
    "import numpy as np\n",
    "\n",
    "# Define symbols\n",
    "x, y = symbols('x y')\n",
    "\n",
    "# Define function\n",
    "f = (x**2 - 2*x*y + x)**2\n",
    "# Define starting point\n",
    "x_val, y_val = 2, 2\n",
    "\n",
    "# Compute partial derivatives first order   \n",
    "f_x = diff(f, x)\n",
    "f_y = diff(f, y)\n",
    "\n",
    "# Compute partial derivatives second order\n",
    "f_xx = diff(f_x, x)\n",
    "f_yy = diff(f_y, y)\n",
    "f_xy = diff(f_x, y)\n",
    "f_yx = diff(f_y, x)\n",
    "\n",
    "# Compute gradient\n",
    "grad = [f_x, f_y]\n",
    "\n",
    "# Compute Hessian\n",
    "H = [[f_xx, f_xy], [f_yx, f_yy]]\n",
    "\n",
    "# Evaluate the derivatives at the point (x_val, y_val)\n",
    "derivatives_at_point = {\n",
    "    \"f_x\": f_x.subs({x: x_val, y: y_val}),\n",
    "    \"f_y\": f_y.subs({x: x_val, y: y_val}),\n",
    "    \"f_xx\": f_xx.subs({x: x_val, y: y_val}),\n",
    "    \"f_xy\": f_xy.subs({x: x_val, y: y_val}),\n",
    "    \"f_yx\": f_yx.subs({x: x_val, y: y_val}),\n",
    "    \"f_yy\": f_yy.subs({x: x_val, y: y_val})\n",
    "}\n",
    "\n",
    "# Compute gradient at starting point\n",
    "gradient_at_point = [derivatives_at_point[\"f_x\"], derivatives_at_point[\"f_y\"]]\n",
    "\n",
    "# Compute Hessian at starting point\n",
    "hessian_at_point = [[derivatives_at_point[\"f_xx\"], derivatives_at_point[\"f_xy\"]], \n",
    "                    [derivatives_at_point[\"f_yx\"], derivatives_at_point[\"f_yy\"]]]\n",
    "\n",
    "# Print results \n",
    "print(\"First order derivatives:\")\n",
    "print('f_x =', f_x)\n",
    "print('f_y =', f_y)\n",
    "print(\"\\nSecond order derivatives:\") # Carefull dxdy = fyx ()\n",
    "print('f_xx =', f_xx)\n",
    "print('f_yy =', f_yy)\n",
    "print('f_xy =', f_xy)\n",
    "print('f_yx =', f_yx)\n",
    "\n",
    "print(\"\\nGradient:\")\n",
    "print('Gradient =', grad)\n",
    "\n",
    "print(\"\\nHessian:\")\n",
    "print('Hessian =', H)\n",
    "\n",
    "print(\"\\Inverse Hessian:\")\n",
    "print('Inverse Hessian =', H.inv())\n",
    "\n",
    "print(\"\\nGradient at starting point:\")\n",
    "print('Gradient at starting point =', gradient_at_point)\n",
    "\n",
    "print(\"\\nHessian at starting point:\")\n",
    "print('Hessian at starting point =', hessian_at_point)\n"
   ]
  }
 ],
 "metadata": {
  "kernelspec": {
   "display_name": "Python 3 (ipykernel)",
   "language": "python",
   "name": "python3"
  },
  "language_info": {
   "codemirror_mode": {
    "name": "ipython",
    "version": 3
   },
   "file_extension": ".py",
   "mimetype": "text/x-python",
   "name": "python",
   "nbconvert_exporter": "python",
   "pygments_lexer": "ipython3",
   "version": "3.8.18"
  }
 },
 "nbformat": 4,
 "nbformat_minor": 4
}
