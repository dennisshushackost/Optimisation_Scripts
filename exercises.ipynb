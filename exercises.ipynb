{
 "cells": [
  {
   "cell_type": "markdown",
   "metadata": {},
   "source": [
    "## Exercises TSM Optimisation "
   ]
  },
  {
   "cell_type": "markdown",
   "metadata": {},
   "source": [
    "Calculate the derivatives, the gradient and the Hessian of the following functions:"
   ]
  },
  {
   "cell_type": "code",
   "execution_count": 4,
   "metadata": {},
   "outputs": [
    {
     "name": "stdout",
     "output_type": "stream",
     "text": [
      "First order derivatives:\n"
     ]
    },
    {
     "data": {
      "text/latex": [
       "$\\frac{\\partial f}{\\partial x} = 2*x - 4*y + 4*(x - 2)**3$"
      ],
      "text/plain": [
       "<IPython.core.display.Latex object>"
      ]
     },
     "metadata": {},
     "output_type": "display_data"
    },
    {
     "data": {
      "text/latex": [
       "$\\frac{\\partial f}{\\partial y} = -4*x + 8*y$"
      ],
      "text/plain": [
       "<IPython.core.display.Latex object>"
      ]
     },
     "metadata": {},
     "output_type": "display_data"
    },
    {
     "name": "stdout",
     "output_type": "stream",
     "text": [
      "\n",
      "Second order derivatives:\n"
     ]
    },
    {
     "data": {
      "text/latex": [
       "$\\frac{\\partial^2 f}{\\partial x \\partial x} = 12*(x - 2)**2 + 2$"
      ],
      "text/plain": [
       "<IPython.core.display.Latex object>"
      ]
     },
     "metadata": {},
     "output_type": "display_data"
    },
    {
     "data": {
      "text/latex": [
       "$\\frac{\\partial^2 f}{\\partial y \\partial x} = -4$"
      ],
      "text/plain": [
       "<IPython.core.display.Latex object>"
      ]
     },
     "metadata": {},
     "output_type": "display_data"
    },
    {
     "data": {
      "text/latex": [
       "$\\frac{\\partial^2 f}{\\partial x \\partial y} = -4$"
      ],
      "text/plain": [
       "<IPython.core.display.Latex object>"
      ]
     },
     "metadata": {},
     "output_type": "display_data"
    },
    {
     "data": {
      "text/latex": [
       "$\\frac{\\partial^2 f}{\\partial y \\partial y} = 8$"
      ],
      "text/plain": [
       "<IPython.core.display.Latex object>"
      ]
     },
     "metadata": {},
     "output_type": "display_data"
    },
    {
     "name": "stdout",
     "output_type": "stream",
     "text": [
      "\n",
      "Gradient:\n"
     ]
    },
    {
     "data": {
      "text/latex": [
       "$\\nabla f = Matrix([[-32], [0]])$"
      ],
      "text/plain": [
       "<IPython.core.display.Latex object>"
      ]
     },
     "metadata": {},
     "output_type": "display_data"
    },
    {
     "name": "stdout",
     "output_type": "stream",
     "text": [
      "\n",
      "Hessian:\n"
     ]
    },
    {
     "data": {
      "text/latex": [
       "$H = Matrix([[50, -4], [-4, 8]])$"
      ],
      "text/plain": [
       "<IPython.core.display.Latex object>"
      ]
     },
     "metadata": {},
     "output_type": "display_data"
    },
    {
     "name": "stdout",
     "output_type": "stream",
     "text": [
      "\n",
      "Function at starting point: (0, 0)\n",
      "Function at starting point = 16\n",
      "\n",
      "Gradient at starting point (0, 0):\n",
      "Gradient at starting point = [-32, 0]\n",
      "\n",
      "Hessian at starting point (0, 0):\n",
      "Hessian at starting point = [[50, -4], [-4, 8]]\n",
      "First order derivatives:\n"
     ]
    },
    {
     "data": {
      "text/latex": [
       "$\\frac{\\partial f}{\\partial x} = 2*x - 4*y + 4*(x - 2)**3$"
      ],
      "text/plain": [
       "<IPython.core.display.Latex object>"
      ]
     },
     "metadata": {},
     "output_type": "display_data"
    },
    {
     "data": {
      "text/latex": [
       "$\\frac{\\partial f}{\\partial y} = -4*x + 8*y$"
      ],
      "text/plain": [
       "<IPython.core.display.Latex object>"
      ]
     },
     "metadata": {},
     "output_type": "display_data"
    },
    {
     "data": {
      "text/latex": [
       "$\\frac{\\partial f}{\\partial z} = 2*z$"
      ],
      "text/plain": [
       "<IPython.core.display.Latex object>"
      ]
     },
     "metadata": {},
     "output_type": "display_data"
    },
    {
     "name": "stdout",
     "output_type": "stream",
     "text": [
      "\n",
      "Second order derivatives:\n"
     ]
    },
    {
     "data": {
      "text/latex": [
       "$\\frac{\\partial^2 f}{\\partial x \\partial x} = 12*(x - 2)**2 + 2$"
      ],
      "text/plain": [
       "<IPython.core.display.Latex object>"
      ]
     },
     "metadata": {},
     "output_type": "display_data"
    },
    {
     "data": {
      "text/latex": [
       "$\\frac{\\partial^2 f}{\\partial y \\partial x} = -4$"
      ],
      "text/plain": [
       "<IPython.core.display.Latex object>"
      ]
     },
     "metadata": {},
     "output_type": "display_data"
    },
    {
     "data": {
      "text/latex": [
       "$\\frac{\\partial^2 f}{\\partial z \\partial x} = 0$"
      ],
      "text/plain": [
       "<IPython.core.display.Latex object>"
      ]
     },
     "metadata": {},
     "output_type": "display_data"
    },
    {
     "data": {
      "text/latex": [
       "$\\frac{\\partial^2 f}{\\partial x \\partial y} = -4$"
      ],
      "text/plain": [
       "<IPython.core.display.Latex object>"
      ]
     },
     "metadata": {},
     "output_type": "display_data"
    },
    {
     "data": {
      "text/latex": [
       "$\\frac{\\partial^2 f}{\\partial y \\partial y} = 8$"
      ],
      "text/plain": [
       "<IPython.core.display.Latex object>"
      ]
     },
     "metadata": {},
     "output_type": "display_data"
    },
    {
     "data": {
      "text/latex": [
       "$\\frac{\\partial^2 f}{\\partial z \\partial y} = 0$"
      ],
      "text/plain": [
       "<IPython.core.display.Latex object>"
      ]
     },
     "metadata": {},
     "output_type": "display_data"
    },
    {
     "data": {
      "text/latex": [
       "$\\frac{\\partial^2 f}{\\partial x \\partial z} = 0$"
      ],
      "text/plain": [
       "<IPython.core.display.Latex object>"
      ]
     },
     "metadata": {},
     "output_type": "display_data"
    },
    {
     "data": {
      "text/latex": [
       "$\\frac{\\partial^2 f}{\\partial y \\partial z} = 0$"
      ],
      "text/plain": [
       "<IPython.core.display.Latex object>"
      ]
     },
     "metadata": {},
     "output_type": "display_data"
    },
    {
     "data": {
      "text/latex": [
       "$\\frac{\\partial^2 f}{\\partial z \\partial z} = 2$"
      ],
      "text/plain": [
       "<IPython.core.display.Latex object>"
      ]
     },
     "metadata": {},
     "output_type": "display_data"
    },
    {
     "name": "stdout",
     "output_type": "stream",
     "text": [
      "\n",
      "Gradient:\n"
     ]
    },
    {
     "data": {
      "text/latex": [
       "$\\nabla f = Matrix([[-32], [0], [0]])$"
      ],
      "text/plain": [
       "<IPython.core.display.Latex object>"
      ]
     },
     "metadata": {},
     "output_type": "display_data"
    },
    {
     "name": "stdout",
     "output_type": "stream",
     "text": [
      "\n",
      "Hessian:\n"
     ]
    },
    {
     "data": {
      "text/latex": [
       "$H = Matrix([[50, -4, 0], [-4, 8, 0], [0, 0, 2]])$"
      ],
      "text/plain": [
       "<IPython.core.display.Latex object>"
      ]
     },
     "metadata": {},
     "output_type": "display_data"
    },
    {
     "name": "stdout",
     "output_type": "stream",
     "text": [
      "\n",
      "Function at starting point: (0, 0, 0)\n",
      "Function at starting point = 16\n",
      "\n",
      "Gradient at starting point (0, 0, 0):\n",
      "Gradient at starting point = [-32, 0, 0]\n",
      "\n",
      "Hessian at starting point (0, 0, 0):\n",
      "Hessian at starting point = [[50, -4, 0], [-4, 8, 0], [0, 0, 2]]\n"
     ]
    }
   ],
   "source": [
    "from sympy import symbols, diff, Matrix\n",
    "from IPython.display import display, Latex\n",
    "\n",
    "\n",
    "def calculate_gradient_Hessian(third_variable=None):\n",
    "    # Define the symbols:\n",
    "    x, y = symbols('x y')\n",
    "    x_val, y_val = 0, 0\n",
    "\n",
    "    # Add a third variable if provided:\n",
    "    if third_variable is not None:\n",
    "        z = symbols('z')\n",
    "        z_val = 0  # Default value for z\n",
    "    else:\n",
    "        z = None\n",
    "\n",
    "    # Define your function and point here, modify according to the presence of the third variable:\n",
    "    if z is not None:\n",
    "        f = (x-2)**4 + (x-2*y)**2 + z**2  # Example function with third variable\n",
    "    else:\n",
    "        f = (x-2)**4 + (x-2*y)**2\n",
    "\n",
    "    # Compute first order partials:\n",
    "    f_x = diff(f, x)\n",
    "    f_y = diff(f, y)\n",
    "    grad = [f_x, f_y]\n",
    "\n",
    "    if z is not None:\n",
    "        f_z = diff(f, z)\n",
    "        grad.append(f_z)\n",
    "\n",
    "    # Compute second order partials:\n",
    "    f_xx = diff(f_x, x)\n",
    "    f_yy = diff(f_y, y)\n",
    "    f_xy = diff(f_x, y)\n",
    "    f_yx = diff(f_y, x)\n",
    "\n",
    "    H = [[f_xx, f_yx], [f_xy, f_yy]]\n",
    "\n",
    "    if z is not None:\n",
    "        f_xz = diff(f_x, z)\n",
    "        f_yz = diff(f_y, z)\n",
    "        f_zz = diff(f_z, z)\n",
    "        H = [[f_xx, f_yx, f_xz], [f_xy, f_yy, f_yz], [f_xz, f_yz, f_zz]]\n",
    "\n",
    "    # Evaluate at the given point:\n",
    "    point_subs = {x: x_val, y: y_val}\n",
    "    if z is not None:\n",
    "        point_subs[z] = z_val\n",
    "\n",
    "    derivatives_at_point = {f\"∂f/∂{var}\": derivative.subs(point_subs) for var, derivative in zip(['x', 'y', 'z'] if z is not None else ['x', 'y'], grad)}\n",
    "    \n",
    "    gradient_at_point = [derivatives_at_point[f\"∂f/∂{var}\"] for var in ['x', 'y', 'z'] if f\"∂f/∂{var}\" in derivatives_at_point]\n",
    "    hessian_at_point = [[H[i][j].subs(point_subs) for j in range(len(H[0]))] for i in range(len(H))]\n",
    "\n",
    "    # Print out the results:\n",
    "    print(\"First order derivatives:\")\n",
    "    for var, derivative in zip(['x', 'y', 'z'] if z is not None else ['x', 'y'], grad):\n",
    "        display(Latex(rf'$\\frac{{\\partial f}}{{\\partial {var}}} = {(derivative)}$'))\n",
    "    \n",
    "    print(\"\\nSecond order derivatives:\")\n",
    "    for i in range(len(H)):\n",
    "        for j in range(len(H[i])):\n",
    "            display(Latex(rf'$\\frac{{\\partial^2 f}}{{\\partial {[\"x\", \"y\", \"z\"][j]} \\partial {[\"x\", \"y\", \"z\"][i]}}} = {(H[i][j])}$'))\n",
    "\n",
    "    print(\"\\nGradient:\")\n",
    "    display(Latex(rf'$\\nabla f = {(Matrix(gradient_at_point))}$'))\n",
    "\n",
    "    print(\"\\nHessian:\")\n",
    "    display(Latex(rf'$H = {(Matrix(hessian_at_point))}$'))\n",
    "\n",
    "    print(f\"\\nFunction at starting point: {tuple(point_subs.values())}\")\n",
    "    print('Function at starting point =', f.subs(point_subs))\n",
    "\n",
    "    print(f\"\\nGradient at starting point {tuple(point_subs.values())}:\")\n",
    "    print('Gradient at starting point =', gradient_at_point)\n",
    "\n",
    "    print(f\"\\nHessian at starting point {tuple(point_subs.values())}:\")\n",
    "    print('Hessian at starting point =', hessian_at_point)\n",
    "\n",
    "# Example usage of the function\n",
    "calculate_gradient_Hessian()\n",
    "calculate_gradient_Hessian(third_variable=True)  # Example with three variables\n",
    "\n"
   ]
  },
  {
   "cell_type": "code",
   "execution_count": null,
   "metadata": {},
   "outputs": [],
   "source": []
  }
 ],
 "metadata": {
  "kernelspec": {
   "display_name": "Python 3 (ipykernel)",
   "language": "python",
   "name": "python3"
  },
  "language_info": {
   "codemirror_mode": {
    "name": "ipython",
    "version": 3
   },
   "file_extension": ".py",
   "mimetype": "text/x-python",
   "name": "python",
   "nbconvert_exporter": "python",
   "pygments_lexer": "ipython3",
   "version": "3.8.18"
  }
 },
 "nbformat": 4,
 "nbformat_minor": 4
}
